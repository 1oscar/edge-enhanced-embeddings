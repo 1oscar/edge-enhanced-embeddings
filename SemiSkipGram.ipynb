{
 "cells": [
  {
   "cell_type": "code",
   "execution_count": 1,
   "metadata": {},
   "outputs": [],
   "source": [
    "import torch\n",
    "import torch.nn as nn\n",
    "from torch.autograd import Variable\n",
    "import torch.optim as optim\n",
    "from torch.utils.data import Dataset, DataLoader\n",
    "import numpy\n",
    "import copy\n",
    "import matplotlib\n",
    "import os\n",
    "from matplotlib import pyplot as plt\n",
    "import seaborn as sns\n",
    "import torch.nn.functional as F\n",
    "sns.set(style=\"ticks\")\n",
    "from torch.nn.utils.rnn import pad_packed_sequence, pack_padded_sequence\n",
    "import numpy as np\n",
    "from utils import Str2id\n",
    "from collections import Counter\n",
    "from utils import NodeClassifier,get_word_embeddings\n",
    "from tqdm import tqdm_notebook as tqdm\n",
    "# from tqdm import tqdm\n",
    "from tqdm import tnrange\n",
    "from datasets import NormalEdgeDataset, NodeTextEdgeDataset, MultipleLableDataset\n",
    "from sklearn.preprocessing import MinMaxScaler\n",
    "from sklearn.preprocessing import Normalizer\n",
    "# %config InlineBackend.figure_format = 'retina'\n",
    "from scoring import evaluate\n",
    "import pickle\n",
    "from model import NodeRepresentation, SemiSkipGram\n",
    "import time"
   ]
  },
  {
   "cell_type": "code",
   "execution_count": 2,
   "metadata": {},
   "outputs": [],
   "source": [
    "%load_ext autoreload\n",
    "%autoreload 2"
   ]
  },
  {
   "cell_type": "code",
   "execution_count": 3,
   "metadata": {},
   "outputs": [],
   "source": [
    "def collate_fn(data):\n",
    "    u = [d[0] for d in data]\n",
    "    v = [d[1] for d in data]\n",
    "    neg_v = []\n",
    "    for d in data:\n",
    "        neg_v += d[2]\n",
    "    return u, v, numpy.array(neg_v)"
   ]
  },
  {
   "cell_type": "code",
   "execution_count": 15,
   "metadata": {},
   "outputs": [],
   "source": [
    "# use_cuda=torch.cuda.is_available()\n",
    "batch_size=100\n",
    "neg_sampling_size=10\n",
    "emb_size=256"
   ]
  },
  {
   "cell_type": "code",
   "execution_count": 5,
   "metadata": {},
   "outputs": [],
   "source": [
    "base_data_path=\"/mnt/store1/plus1lab/multilabel-data\"\n",
    "base_model_data_path=\"/mnt/store1/plus1lab/multilabel-model\""
   ]
  },
  {
   "cell_type": "code",
   "execution_count": 24,
   "metadata": {},
   "outputs": [],
   "source": [
    "dataset=\"v1_aminer_5k\"\n",
    "ne_model='deepwalk'"
   ]
  },
  {
   "cell_type": "code",
   "execution_count": 25,
   "metadata": {},
   "outputs": [],
   "source": [
    "edge_list_path = \"%s/%s_5/original-edgelist.txt\" % (base_data_path, dataset)\n",
    "stats_file = \"%s/%s_5/stats.txt\" % (base_data_path, dataset)\n",
    "node_labels_file = \"%s/%s_5/node-labels.txt\" % (base_data_path, dataset)\n",
    "original_deepwalk_path = \"%s/deepwalk-node/%s_5/original.walks\" % (base_model_data_path,\n",
    "    dataset)"
   ]
  },
  {
   "cell_type": "code",
   "execution_count": 26,
   "metadata": {},
   "outputs": [
    {
     "name": "stderr",
     "output_type": "stream",
     "text": [
      "7232it [00:02, 3210.55it/s]/home/hcchen/anaconda3/envs/deeplearning/lib/python3.6/site-packages/tqdm/_monitor.py:89: TqdmSynchronisationWarning: Set changed size during iteration (see https://github.com/tqdm/tqdm/issues/481)\n",
      "  TqdmSynchronisationWarning)\n",
      "20150it [00:05, 3485.57it/s]\n"
     ]
    }
   ],
   "source": [
    "node_map = Str2id()\n",
    "label_map = Str2id()\n",
    "if ne_model == 'deepwalk':\n",
    "    edge_dataset = NormalEdgeDataset(\n",
    "        node_map,\n",
    "        node_map,\n",
    "        original_deepwalk_path,\n",
    "        neg_sampling_size,\n",
    "        from_random_walk=True,\n",
    "        window_size=10)\n",
    "elif ne_model == 'skip-gram':\n",
    "    edge_dataset = NormalEdgeDataset(node_map, node_map, edge_list_path,\n",
    "                                     neg_sampling_size)\n",
    "else:\n",
    "    raise Exception('No such network embedding model')\n",
    "edge_dataset.negative_sampling1()"
   ]
  },
  {
   "cell_type": "code",
   "execution_count": 27,
   "metadata": {},
   "outputs": [],
   "source": [
    "edge_label_ratio=5\n",
    "edge_train_prob=1.0\n",
    "edge_label_train_prob=0.2"
   ]
  },
  {
   "cell_type": "code",
   "execution_count": 29,
   "metadata": {
    "scrolled": false
   },
   "outputs": [
    {
     "name": "stdout",
     "output_type": "stream",
     "text": [
      "edge_label_train_prob 0.0\n",
      "batch_size 100\n",
      "neg_sampling_size 10\n",
      "dataset v1_aminer_5k\n",
      "ne_model deepwalk\n",
      "filename 1534902302.492674\n",
      "edge_label_ratio 5\n",
      "edge_train_prob 1.0\n",
      "emb_size 256\n",
      "Use 1.00 labels\n",
      "not count topk 0\n",
      "2015\n",
      "147\n"
     ]
    },
    {
     "data": {
      "application/vnd.jupyter.widget-view+json": {
       "model_id": "df1fbcda7658497185d5c3fe7837048e",
       "version_major": 2,
       "version_minor": 0
      },
      "text/html": [
       "<p>Failed to display Jupyter Widget of type <code>HBox</code>.</p>\n",
       "<p>\n",
       "  If you're reading this message in the Jupyter Notebook or JupyterLab Notebook, it may mean\n",
       "  that the widgets JavaScript is still loading. If this message persists, it\n",
       "  likely means that the widgets JavaScript library is either not installed or\n",
       "  not enabled. See the <a href=\"https://ipywidgets.readthedocs.io/en/stable/user_install.html\">Jupyter\n",
       "  Widgets Documentation</a> for setup instructions.\n",
       "</p>\n",
       "<p>\n",
       "  If you're reading this message in another frontend (for example, a static\n",
       "  rendering on GitHub or <a href=\"https://nbviewer.jupyter.org/\">NBViewer</a>),\n",
       "  it may mean that your frontend doesn't currently support widgets.\n",
       "</p>\n"
      ],
      "text/plain": [
       "HBox(children=(IntProgress(value=0, max=100000), HTML(value='')))"
      ]
     },
     "metadata": {},
     "output_type": "display_data"
    },
    {
     "name": "stderr",
     "output_type": "stream",
     "text": [
      "2015 lines [00:00, 275536.22 lines/s]\n"
     ]
    },
    {
     "name": "stdout",
     "output_type": "stream",
     "text": [
      "Results, using embeddings of dimensionality 256\n",
      "-------------------\n",
      "Train percent: 0.05\n",
      "Shuffle #1:    {'micro': 0.11000433087916847, 'accuracy': 0.004699738903394256, 'macro': 0.03447154983441913}\n",
      "Average score: {'micro': 0.11000433087916847, 'accuracy': 0.004699738903394256, 'macro': 0.03447154983441913}\n",
      "-------------------\n",
      "Train percent: 0.1\n",
      "Shuffle #1:    {'micro': 0.11861564262844945, 'accuracy': 0.0027563395810363835, 'macro': 0.03801074142944303}\n",
      "Average score: {'micro': 0.11861564262844945, 'accuracy': 0.0027563395810363835, 'macro': 0.03801074142944303}\n",
      "-------------------\n",
      "Train percent: 0.2\n",
      "Shuffle #1:    {'micro': 0.12575262343024257, 'accuracy': 0.0024813895781637717, 'macro': 0.038161649351920686}\n",
      "Average score: {'micro': 0.12575262343024257, 'accuracy': 0.0024813895781637717, 'macro': 0.038161649351920686}\n",
      "-------------------\n"
     ]
    },
    {
     "name": "stderr",
     "output_type": "stream",
     "text": [
      "/home/hcchen/anaconda3/envs/deeplearning/lib/python3.6/site-packages/tqdm/_monitor.py:89: TqdmSynchronisationWarning: Set changed size during iteration (see https://github.com/tqdm/tqdm/issues/481)\n",
      "  TqdmSynchronisationWarning)\n",
      "2015 lines [00:00, 378873.11 lines/s]\n"
     ]
    },
    {
     "name": "stdout",
     "output_type": "stream",
     "text": [
      "Results, using embeddings of dimensionality 256\n",
      "-------------------\n",
      "Train percent: 0.05\n",
      "Shuffle #1:    {'micro': 0.20757180156657964, 'accuracy': 0.037075718015665796, 'macro': 0.14927719058997954}\n",
      "Average score: {'micro': 0.20757180156657964, 'accuracy': 0.037075718015665796, 'macro': 0.14927719058997954}\n",
      "-------------------\n",
      "Train percent: 0.1\n",
      "Shuffle #1:    {'micro': 0.24667583677212288, 'accuracy': 0.04851157662624035, 'macro': 0.2073346160612755}\n",
      "Average score: {'micro': 0.24667583677212288, 'accuracy': 0.04851157662624035, 'macro': 0.2073346160612755}\n",
      "-------------------\n",
      "Train percent: 0.2\n",
      "Shuffle #1:    {'micro': 0.302329564919493, 'accuracy': 0.06327543424317618, 'macro': 0.2688602551888197}\n",
      "Average score: {'micro': 0.302329564919493, 'accuracy': 0.06327543424317618, 'macro': 0.2688602551888197}\n",
      "-------------------\n"
     ]
    },
    {
     "name": "stderr",
     "output_type": "stream",
     "text": [
      "/home/hcchen/anaconda3/envs/deeplearning/lib/python3.6/site-packages/tqdm/_monitor.py:89: TqdmSynchronisationWarning: Set changed size during iteration (see https://github.com/tqdm/tqdm/issues/481)\n",
      "  TqdmSynchronisationWarning)\n",
      "2015 lines [00:00, 377064.45 lines/s]\n"
     ]
    },
    {
     "name": "stdout",
     "output_type": "stream",
     "text": [
      "Results, using embeddings of dimensionality 256\n",
      "-------------------\n",
      "Train percent: 0.05\n",
      "Shuffle #1:    {'micro': 0.17661547377571718, 'accuracy': 0.033942558746736295, 'macro': 0.13793432441554332}\n",
      "Average score: {'micro': 0.17661547377571718, 'accuracy': 0.033942558746736295, 'macro': 0.13793432441554332}\n",
      "-------------------\n",
      "Train percent: 0.1\n",
      "Shuffle #1:    {'micro': 0.2414694128496772, 'accuracy': 0.050165380374862185, 'macro': 0.21371063032362111}\n",
      "Average score: {'micro': 0.2414694128496772, 'accuracy': 0.050165380374862185, 'macro': 0.21371063032362111}\n",
      "-------------------\n",
      "Train percent: 0.2\n",
      "Shuffle #1:    {'micro': 0.3236013986013986, 'accuracy': 0.07382133995037221, 'macro': 0.29265230882951626}\n",
      "Average score: {'micro': 0.3236013986013986, 'accuracy': 0.07382133995037221, 'macro': 0.29265230882951626}\n",
      "-------------------\n"
     ]
    },
    {
     "name": "stderr",
     "output_type": "stream",
     "text": [
      "/home/hcchen/anaconda3/envs/deeplearning/lib/python3.6/site-packages/tqdm/_monitor.py:89: TqdmSynchronisationWarning: Set changed size during iteration (see https://github.com/tqdm/tqdm/issues/481)\n",
      "  TqdmSynchronisationWarning)\n",
      "2015 lines [00:00, 371691.55 lines/s]\n"
     ]
    },
    {
     "name": "stdout",
     "output_type": "stream",
     "text": [
      "Results, using embeddings of dimensionality 256\n",
      "-------------------\n",
      "Train percent: 0.05\n",
      "Shuffle #1:    {'micro': 0.19382104342757214, 'accuracy': 0.0402088772845953, 'macro': 0.15680552289594898}\n",
      "Average score: {'micro': 0.19382104342757214, 'accuracy': 0.0402088772845953, 'macro': 0.15680552289594898}\n",
      "-------------------\n",
      "Train percent: 0.1\n",
      "Shuffle #1:    {'micro': 0.23963133640552994, 'accuracy': 0.060088202866593166, 'macro': 0.21580767680281823}\n",
      "Average score: {'micro': 0.23963133640552994, 'accuracy': 0.060088202866593166, 'macro': 0.21580767680281823}\n",
      "-------------------\n",
      "Train percent: 0.2\n",
      "Shuffle #1:    {'micro': 0.307480179248535, 'accuracy': 0.07382133995037221, 'macro': 0.28281040604422697}\n",
      "Average score: {'micro': 0.307480179248535, 'accuracy': 0.07382133995037221, 'macro': 0.28281040604422697}\n",
      "-------------------\n"
     ]
    },
    {
     "name": "stderr",
     "output_type": "stream",
     "text": [
      "/home/hcchen/anaconda3/envs/deeplearning/lib/python3.6/site-packages/tqdm/_monitor.py:89: TqdmSynchronisationWarning: Set changed size during iteration (see https://github.com/tqdm/tqdm/issues/481)\n",
      "  TqdmSynchronisationWarning)\n",
      "2015 lines [00:00, 6417.93 lines/s]\n",
      "/home/hcchen/anaconda3/envs/deeplearning/lib/python3.6/site-packages/tqdm/_monitor.py:89: TqdmSynchronisationWarning: Set changed size during iteration (see https://github.com/tqdm/tqdm/issues/481)\n",
      "  TqdmSynchronisationWarning)\n"
     ]
    },
    {
     "name": "stdout",
     "output_type": "stream",
     "text": [
      "Results, using embeddings of dimensionality 256\n",
      "-------------------\n",
      "Train percent: 0.05\n",
      "Shuffle #1:    {'micro': 0.18583042973286876, 'accuracy': 0.02610966057441253, 'macro': 0.15485065145437715}\n",
      "Average score: {'micro': 0.18583042973286876, 'accuracy': 0.02610966057441253, 'macro': 0.15485065145437715}\n",
      "-------------------\n",
      "Train percent: 0.1\n",
      "Shuffle #1:    {'micro': 0.2482399755127028, 'accuracy': 0.04244762954796031, 'macro': 0.21407755963914346}\n",
      "Average score: {'micro': 0.2482399755127028, 'accuracy': 0.04244762954796031, 'macro': 0.21407755963914346}\n",
      "-------------------\n",
      "Train percent: 0.2\n",
      "Shuffle #1:    {'micro': 0.3137120302042217, 'accuracy': 0.06451612903225806, 'macro': 0.28798379890403397}\n",
      "Average score: {'micro': 0.3137120302042217, 'accuracy': 0.06451612903225806, 'macro': 0.28798379890403397}\n",
      "-------------------\n"
     ]
    },
    {
     "name": "stderr",
     "output_type": "stream",
     "text": [
      "/home/hcchen/anaconda3/envs/deeplearning/lib/python3.6/site-packages/tqdm/_monitor.py:89: TqdmSynchronisationWarning: Set changed size during iteration (see https://github.com/tqdm/tqdm/issues/481)\n",
      "  TqdmSynchronisationWarning)\n",
      "2015 lines [00:00, 365518.66 lines/s]\n"
     ]
    },
    {
     "name": "stdout",
     "output_type": "stream",
     "text": [
      "Results, using embeddings of dimensionality 256\n",
      "-------------------\n",
      "Train percent: 0.05\n",
      "Shuffle #1:    {'micro': 0.20539115147963669, 'accuracy': 0.04960835509138381, 'macro': 0.16789462470372993}\n",
      "Average score: {'micro': 0.20539115147963669, 'accuracy': 0.04960835509138381, 'macro': 0.16789462470372993}\n",
      "-------------------\n",
      "Train percent: 0.1\n",
      "Shuffle #1:    {'micro': 0.2489984591679507, 'accuracy': 0.05898566703417861, 'macro': 0.21718831603845978}\n",
      "Average score: {'micro': 0.2489984591679507, 'accuracy': 0.05898566703417861, 'macro': 0.21718831603845978}\n",
      "-------------------\n",
      "Train percent: 0.2\n",
      "Shuffle #1:    {'micro': 0.3192602930914166, 'accuracy': 0.07444168734491315, 'macro': 0.2923617956037896}\n",
      "Average score: {'micro': 0.3192602930914166, 'accuracy': 0.07444168734491315, 'macro': 0.2923617956037896}\n",
      "-------------------\n"
     ]
    },
    {
     "name": "stderr",
     "output_type": "stream",
     "text": [
      "/home/hcchen/anaconda3/envs/deeplearning/lib/python3.6/site-packages/tqdm/_monitor.py:89: TqdmSynchronisationWarning: Set changed size during iteration (see https://github.com/tqdm/tqdm/issues/481)\n",
      "  TqdmSynchronisationWarning)\n",
      "2015 lines [00:00, 347456.12 lines/s]\n"
     ]
    },
    {
     "name": "stdout",
     "output_type": "stream",
     "text": [
      "Results, using embeddings of dimensionality 256\n",
      "-------------------\n",
      "Train percent: 0.05\n",
      "Shuffle #1:    {'micro': 0.19878997407087295, 'accuracy': 0.03289817232375979, 'macro': 0.16025962926283924}\n",
      "Average score: {'micro': 0.19878997407087295, 'accuracy': 0.03289817232375979, 'macro': 0.16025962926283924}\n",
      "-------------------\n",
      "Train percent: 0.1\n",
      "Shuffle #1:    {'micro': 0.24216610891390325, 'accuracy': 0.04630650496141125, 'macro': 0.216085103224301}\n",
      "Average score: {'micro': 0.24216610891390325, 'accuracy': 0.04630650496141125, 'macro': 0.216085103224301}\n",
      "-------------------\n",
      "Train percent: 0.2\n",
      "Shuffle #1:    {'micro': 0.3192512450626825, 'accuracy': 0.07754342431761786, 'macro': 0.29498458283380374}\n",
      "Average score: {'micro': 0.3192512450626825, 'accuracy': 0.07754342431761786, 'macro': 0.29498458283380374}\n",
      "-------------------\n"
     ]
    },
    {
     "name": "stderr",
     "output_type": "stream",
     "text": [
      "/home/hcchen/anaconda3/envs/deeplearning/lib/python3.6/site-packages/tqdm/_monitor.py:89: TqdmSynchronisationWarning: Set changed size during iteration (see https://github.com/tqdm/tqdm/issues/481)\n",
      "  TqdmSynchronisationWarning)\n",
      "2015 lines [00:00, 374474.84 lines/s]\n",
      "/home/hcchen/anaconda3/envs/deeplearning/lib/python3.6/site-packages/tqdm/_monitor.py:89: TqdmSynchronisationWarning: Set changed size during iteration (see https://github.com/tqdm/tqdm/issues/481)\n",
      "  TqdmSynchronisationWarning)\n"
     ]
    },
    {
     "name": "stdout",
     "output_type": "stream",
     "text": [
      "Results, using embeddings of dimensionality 256\n",
      "-------------------\n",
      "Train percent: 0.05\n",
      "Shuffle #1:    {'micro': 0.1842680262199563, 'accuracy': 0.038642297650130546, 'macro': 0.15102071554837926}\n",
      "Average score: {'micro': 0.1842680262199563, 'accuracy': 0.038642297650130546, 'macro': 0.15102071554837926}\n",
      "-------------------\n",
      "Train percent: 0.1\n",
      "Shuffle #1:    {'micro': 0.2410700479356734, 'accuracy': 0.05622932745314223, 'macro': 0.21241888162477526}\n",
      "Average score: {'micro': 0.2410700479356734, 'accuracy': 0.05622932745314223, 'macro': 0.21241888162477526}\n",
      "-------------------\n",
      "Train percent: 0.2\n",
      "Shuffle #1:    {'micro': 0.3091629348949363, 'accuracy': 0.07009925558312655, 'macro': 0.2832306985853732}\n",
      "Average score: {'micro': 0.3091629348949363, 'accuracy': 0.07009925558312655, 'macro': 0.2832306985853732}\n",
      "-------------------\n"
     ]
    },
    {
     "name": "stderr",
     "output_type": "stream",
     "text": [
      "/home/hcchen/anaconda3/envs/deeplearning/lib/python3.6/site-packages/tqdm/_monitor.py:89: TqdmSynchronisationWarning: Set changed size during iteration (see https://github.com/tqdm/tqdm/issues/481)\n",
      "  TqdmSynchronisationWarning)\n",
      "2015 lines [00:00, 375523.09 lines/s]\n",
      "/home/hcchen/anaconda3/envs/deeplearning/lib/python3.6/site-packages/tqdm/_monitor.py:89: TqdmSynchronisationWarning: Set changed size during iteration (see https://github.com/tqdm/tqdm/issues/481)\n",
      "  TqdmSynchronisationWarning)\n"
     ]
    },
    {
     "name": "stdout",
     "output_type": "stream",
     "text": [
      "Results, using embeddings of dimensionality 256\n",
      "-------------------\n",
      "Train percent: 0.05\n",
      "Shuffle #1:    {'micro': 0.20052272397270215, 'accuracy': 0.027676240208877285, 'macro': 0.15715598483198132}\n",
      "Average score: {'micro': 0.20052272397270215, 'accuracy': 0.027676240208877285, 'macro': 0.15715598483198132}\n",
      "-------------------\n",
      "Train percent: 0.1\n",
      "Shuffle #1:    {'micro': 0.24792881251917767, 'accuracy': 0.046857772877618525, 'macro': 0.2184522520011482}\n",
      "Average score: {'micro': 0.24792881251917767, 'accuracy': 0.046857772877618525, 'macro': 0.2184522520011482}\n",
      "-------------------\n",
      "Train percent: 0.2\n",
      "Shuffle #1:    {'micro': 0.3186888621932384, 'accuracy': 0.06699751861042183, 'macro': 0.29250066168886835}\n",
      "Average score: {'micro': 0.3186888621932384, 'accuracy': 0.06699751861042183, 'macro': 0.29250066168886835}\n",
      "-------------------\n"
     ]
    },
    {
     "name": "stderr",
     "output_type": "stream",
     "text": [
      "/home/hcchen/anaconda3/envs/deeplearning/lib/python3.6/site-packages/tqdm/_monitor.py:89: TqdmSynchronisationWarning: Set changed size during iteration (see https://github.com/tqdm/tqdm/issues/481)\n",
      "  TqdmSynchronisationWarning)\n",
      "2015 lines [00:00, 375623.22 lines/s]\n"
     ]
    },
    {
     "name": "stdout",
     "output_type": "stream",
     "text": [
      "Results, using embeddings of dimensionality 256\n",
      "-------------------\n",
      "Train percent: 0.05\n",
      "Shuffle #1:    {'micro': 0.17241879350348027, 'accuracy': 0.020887728459530026, 'macro': 0.14265510147060803}\n",
      "Average score: {'micro': 0.17241879350348027, 'accuracy': 0.020887728459530026, 'macro': 0.14265510147060803}\n",
      "-------------------\n",
      "Train percent: 0.1\n",
      "Shuffle #1:    {'micro': 0.23605546995377505, 'accuracy': 0.04189636163175303, 'macro': 0.21648961720129148}\n",
      "Average score: {'micro': 0.23605546995377505, 'accuracy': 0.04189636163175303, 'macro': 0.21648961720129148}\n",
      "-------------------\n",
      "Train percent: 0.2\n",
      "Shuffle #1:    {'micro': 0.32119951464725255, 'accuracy': 0.07382133995037221, 'macro': 0.2974123611654183}\n",
      "Average score: {'micro': 0.32119951464725255, 'accuracy': 0.07382133995037221, 'macro': 0.2974123611654183}\n",
      "-------------------\n"
     ]
    },
    {
     "name": "stderr",
     "output_type": "stream",
     "text": [
      "/home/hcchen/anaconda3/envs/deeplearning/lib/python3.6/site-packages/tqdm/_monitor.py:89: TqdmSynchronisationWarning: Set changed size during iteration (see https://github.com/tqdm/tqdm/issues/481)\n",
      "  TqdmSynchronisationWarning)\n",
      "2015 lines [00:00, 380973.79 lines/s]\n",
      "/home/hcchen/anaconda3/envs/deeplearning/lib/python3.6/site-packages/tqdm/_monitor.py:89: TqdmSynchronisationWarning: Set changed size during iteration (see https://github.com/tqdm/tqdm/issues/481)\n",
      "  TqdmSynchronisationWarning)\n"
     ]
    },
    {
     "name": "stdout",
     "output_type": "stream",
     "text": [
      "Results, using embeddings of dimensionality 256\n",
      "-------------------\n",
      "Train percent: 0.05\n",
      "Shuffle #1:    {'micro': 0.18970503181029497, 'accuracy': 0.0412532637075718, 'macro': 0.1685253653898706}\n",
      "Average score: {'micro': 0.18970503181029497, 'accuracy': 0.0412532637075718, 'macro': 0.1685253653898706}\n",
      "-------------------\n",
      "Train percent: 0.1\n",
      "Shuffle #1:    {'micro': 0.23764490543014033, 'accuracy': 0.05733186328555678, 'macro': 0.214541191242502}\n",
      "Average score: {'micro': 0.23764490543014033, 'accuracy': 0.05733186328555678, 'macro': 0.214541191242502}\n",
      "-------------------\n",
      "Train percent: 0.2\n",
      "Shuffle #1:    {'micro': 0.31869446343130553, 'accuracy': 0.062034739454094295, 'macro': 0.29356859464966834}\n",
      "Average score: {'micro': 0.31869446343130553, 'accuracy': 0.062034739454094295, 'macro': 0.29356859464966834}\n",
      "-------------------\n"
     ]
    },
    {
     "name": "stderr",
     "output_type": "stream",
     "text": [
      "/home/hcchen/anaconda3/envs/deeplearning/lib/python3.6/site-packages/tqdm/_monitor.py:89: TqdmSynchronisationWarning: Set changed size during iteration (see https://github.com/tqdm/tqdm/issues/481)\n",
      "  TqdmSynchronisationWarning)\n",
      "2015 lines [00:00, 218764.34 lines/s]\n",
      "/home/hcchen/anaconda3/envs/deeplearning/lib/python3.6/site-packages/tqdm/_monitor.py:89: TqdmSynchronisationWarning: Set changed size during iteration (see https://github.com/tqdm/tqdm/issues/481)\n",
      "  TqdmSynchronisationWarning)\n"
     ]
    },
    {
     "name": "stdout",
     "output_type": "stream",
     "text": [
      "Results, using embeddings of dimensionality 256\n",
      "-------------------\n",
      "Train percent: 0.05\n",
      "Shuffle #1:    {'micro': 0.20225376847651105, 'accuracy': 0.029765013054830286, 'macro': 0.15746492911990298}\n",
      "Average score: {'micro': 0.20225376847651105, 'accuracy': 0.029765013054830286, 'macro': 0.15746492911990298}\n",
      "-------------------\n",
      "Train percent: 0.1\n",
      "Shuffle #1:    {'micro': 0.24450253729048133, 'accuracy': 0.044652701212789414, 'macro': 0.2126235561575585}\n",
      "Average score: {'micro': 0.24450253729048133, 'accuracy': 0.044652701212789414, 'macro': 0.2126235561575585}\n",
      "-------------------\n",
      "Train percent: 0.2\n",
      "Shuffle #1:    {'micro': 0.30749354005167956, 'accuracy': 0.07568238213399504, 'macro': 0.2785581578621383}\n",
      "Average score: {'micro': 0.30749354005167956, 'accuracy': 0.07568238213399504, 'macro': 0.2785581578621383}\n",
      "-------------------\n"
     ]
    },
    {
     "name": "stderr",
     "output_type": "stream",
     "text": [
      "/home/hcchen/anaconda3/envs/deeplearning/lib/python3.6/site-packages/tqdm/_monitor.py:89: TqdmSynchronisationWarning: Set changed size during iteration (see https://github.com/tqdm/tqdm/issues/481)\n",
      "  TqdmSynchronisationWarning)\n",
      "2015 lines [00:00, 360006.92 lines/s]\n"
     ]
    },
    {
     "name": "stdout",
     "output_type": "stream",
     "text": [
      "Results, using embeddings of dimensionality 256\n",
      "-------------------\n",
      "Train percent: 0.05\n",
      "Shuffle #1:    {'micro': 0.184673549512869, 'accuracy': 0.027154046997389034, 'macro': 0.147723348215658}\n",
      "Average score: {'micro': 0.184673549512869, 'accuracy': 0.027154046997389034, 'macro': 0.147723348215658}\n",
      "-------------------\n",
      "Train percent: 0.1\n",
      "Shuffle #1:    {'micro': 0.24052367179174913, 'accuracy': 0.05181918412348401, 'macro': 0.21001184426872033}\n",
      "Average score: {'micro': 0.24052367179174913, 'accuracy': 0.05181918412348401, 'macro': 0.21001184426872033}\n",
      "-------------------\n",
      "Train percent: 0.2\n",
      "Shuffle #1:    {'micro': 0.3173288250211327, 'accuracy': 0.08188585607940446, 'macro': 0.28813255547037736}\n",
      "Average score: {'micro': 0.3173288250211327, 'accuracy': 0.08188585607940446, 'macro': 0.28813255547037736}\n",
      "-------------------\n"
     ]
    },
    {
     "name": "stderr",
     "output_type": "stream",
     "text": [
      "/home/hcchen/anaconda3/envs/deeplearning/lib/python3.6/site-packages/tqdm/_monitor.py:89: TqdmSynchronisationWarning: Set changed size during iteration (see https://github.com/tqdm/tqdm/issues/481)\n",
      "  TqdmSynchronisationWarning)\n",
      "2015 lines [00:00, 372757.14 lines/s]\n"
     ]
    },
    {
     "name": "stdout",
     "output_type": "stream",
     "text": [
      "Results, using embeddings of dimensionality 256\n",
      "-------------------\n",
      "Train percent: 0.05\n",
      "Shuffle #1:    {'micro': 0.19770148385219669, 'accuracy': 0.03237597911227154, 'macro': 0.16714497019778243}\n",
      "Average score: {'micro': 0.19770148385219669, 'accuracy': 0.03237597911227154, 'macro': 0.16714497019778243}\n",
      "-------------------\n",
      "Train percent: 0.1\n",
      "Shuffle #1:    {'micro': 0.24617268830373545, 'accuracy': 0.06229327453142227, 'macro': 0.22201442752493572}\n",
      "Average score: {'micro': 0.24617268830373545, 'accuracy': 0.06229327453142227, 'macro': 0.22201442752493572}\n",
      "-------------------\n",
      "Train percent: 0.2\n",
      "Shuffle #1:    {'micro': 0.3165592895699112, 'accuracy': 0.0794044665012407, 'macro': 0.29279228443450206}\n",
      "Average score: {'micro': 0.3165592895699112, 'accuracy': 0.0794044665012407, 'macro': 0.29279228443450206}\n",
      "-------------------\n"
     ]
    },
    {
     "name": "stderr",
     "output_type": "stream",
     "text": [
      "/home/hcchen/anaconda3/envs/deeplearning/lib/python3.6/site-packages/tqdm/_monitor.py:89: TqdmSynchronisationWarning: Set changed size during iteration (see https://github.com/tqdm/tqdm/issues/481)\n",
      "  TqdmSynchronisationWarning)\n",
      "2015 lines [00:00, 368290.16 lines/s]\n",
      "/home/hcchen/anaconda3/envs/deeplearning/lib/python3.6/site-packages/tqdm/_monitor.py:89: TqdmSynchronisationWarning: Set changed size during iteration (see https://github.com/tqdm/tqdm/issues/481)\n",
      "  TqdmSynchronisationWarning)\n"
     ]
    },
    {
     "name": "stdout",
     "output_type": "stream",
     "text": [
      "Results, using embeddings of dimensionality 256\n",
      "-------------------\n",
      "Train percent: 0.05\n",
      "Shuffle #1:    {'micro': 0.1797736506094022, 'accuracy': 0.03237597911227154, 'macro': 0.1475586589516963}\n",
      "Average score: {'micro': 0.1797736506094022, 'accuracy': 0.03237597911227154, 'macro': 0.1475586589516963}\n",
      "-------------------\n",
      "Train percent: 0.1\n",
      "Shuffle #1:    {'micro': 0.2313731527093596, 'accuracy': 0.047960308710033074, 'macro': 0.2054711269605291}\n",
      "Average score: {'micro': 0.2313731527093596, 'accuracy': 0.047960308710033074, 'macro': 0.2054711269605291}\n",
      "-------------------\n",
      "Train percent: 0.2\n",
      "Shuffle #1:    {'micro': 0.29747492217225874, 'accuracy': 0.06513647642679901, 'macro': 0.2724805847803367}\n",
      "Average score: {'micro': 0.29747492217225874, 'accuracy': 0.06513647642679901, 'macro': 0.2724805847803367}\n",
      "-------------------\n"
     ]
    },
    {
     "name": "stderr",
     "output_type": "stream",
     "text": [
      "/home/hcchen/anaconda3/envs/deeplearning/lib/python3.6/site-packages/tqdm/_monitor.py:89: TqdmSynchronisationWarning: Set changed size during iteration (see https://github.com/tqdm/tqdm/issues/481)\n",
      "  TqdmSynchronisationWarning)\n",
      "2015 lines [00:00, 378076.52 lines/s]\n",
      "/home/hcchen/anaconda3/envs/deeplearning/lib/python3.6/site-packages/tqdm/_monitor.py:89: TqdmSynchronisationWarning: Set changed size during iteration (see https://github.com/tqdm/tqdm/issues/481)\n",
      "  TqdmSynchronisationWarning)\n"
     ]
    },
    {
     "name": "stdout",
     "output_type": "stream",
     "text": [
      "Results, using embeddings of dimensionality 256\n",
      "-------------------\n",
      "Train percent: 0.05\n",
      "Shuffle #1:    {'micro': 0.2035139092240117, 'accuracy': 0.0422976501305483, 'macro': 0.1635032144870597}\n",
      "Average score: {'micro': 0.2035139092240117, 'accuracy': 0.0422976501305483, 'macro': 0.1635032144870597}\n",
      "-------------------\n",
      "Train percent: 0.1\n",
      "Shuffle #1:    {'micro': 0.2530064754856614, 'accuracy': 0.05953693495038589, 'macro': 0.2196645528454848}\n",
      "Average score: {'micro': 0.2530064754856614, 'accuracy': 0.05953693495038589, 'macro': 0.2196645528454848}\n",
      "-------------------\n",
      "Train percent: 0.2\n",
      "Shuffle #1:    {'micro': 0.3166009936611273, 'accuracy': 0.07630272952853598, 'macro': 0.29654030769291556}\n",
      "Average score: {'micro': 0.3166009936611273, 'accuracy': 0.07630272952853598, 'macro': 0.29654030769291556}\n",
      "-------------------\n"
     ]
    },
    {
     "name": "stderr",
     "output_type": "stream",
     "text": [
      "/home/hcchen/anaconda3/envs/deeplearning/lib/python3.6/site-packages/tqdm/_monitor.py:89: TqdmSynchronisationWarning: Set changed size during iteration (see https://github.com/tqdm/tqdm/issues/481)\n",
      "  TqdmSynchronisationWarning)\n",
      "2015 lines [00:00, 357524.54 lines/s]\n"
     ]
    },
    {
     "name": "stdout",
     "output_type": "stream",
     "text": [
      "Results, using embeddings of dimensionality 256\n",
      "-------------------\n",
      "Train percent: 0.05\n",
      "Shuffle #1:    {'micro': 0.18760907504363003, 'accuracy': 0.02349869451697128, 'macro': 0.1526183212874073}\n",
      "Average score: {'micro': 0.18760907504363003, 'accuracy': 0.02349869451697128, 'macro': 0.1526183212874073}\n",
      "-------------------\n",
      "Train percent: 0.1\n",
      "Shuffle #1:    {'micro': 0.24923171481253842, 'accuracy': 0.050716648291069456, 'macro': 0.21576226105346769}\n",
      "Average score: {'micro': 0.24923171481253842, 'accuracy': 0.050716648291069456, 'macro': 0.21576226105346769}\n",
      "-------------------\n",
      "Train percent: 0.2\n",
      "Shuffle #1:    {'micro': 0.32335329341317365, 'accuracy': 0.0750620347394541, 'macro': 0.30257477540053923}\n",
      "Average score: {'micro': 0.32335329341317365, 'accuracy': 0.0750620347394541, 'macro': 0.30257477540053923}\n",
      "-------------------\n"
     ]
    },
    {
     "name": "stderr",
     "output_type": "stream",
     "text": [
      "/home/hcchen/anaconda3/envs/deeplearning/lib/python3.6/site-packages/tqdm/_monitor.py:89: TqdmSynchronisationWarning: Set changed size during iteration (see https://github.com/tqdm/tqdm/issues/481)\n",
      "  TqdmSynchronisationWarning)\n",
      "2015 lines [00:00, 380493.54 lines/s]\n"
     ]
    },
    {
     "name": "stdout",
     "output_type": "stream",
     "text": [
      "Results, using embeddings of dimensionality 256\n",
      "-------------------\n",
      "Train percent: 0.05\n",
      "Shuffle #1:    {'micro': 0.1894005212858384, 'accuracy': 0.03080939947780679, 'macro': 0.1507525893344956}\n",
      "Average score: {'micro': 0.1894005212858384, 'accuracy': 0.03080939947780679, 'macro': 0.1507525893344956}\n",
      "-------------------\n",
      "Train percent: 0.1\n",
      "Shuffle #1:    {'micro': 0.2589312977099237, 'accuracy': 0.05237045203969129, 'macro': 0.22955084457919928}\n",
      "Average score: {'micro': 0.2589312977099237, 'accuracy': 0.05237045203969129, 'macro': 0.22955084457919928}\n",
      "-------------------\n",
      "Train percent: 0.2\n",
      "Shuffle #1:    {'micro': 0.3278518262073741, 'accuracy': 0.08312655086848635, 'macro': 0.3014330224824653}\n",
      "Average score: {'micro': 0.3278518262073741, 'accuracy': 0.08312655086848635, 'macro': 0.3014330224824653}\n",
      "-------------------\n"
     ]
    },
    {
     "name": "stderr",
     "output_type": "stream",
     "text": [
      "/home/hcchen/anaconda3/envs/deeplearning/lib/python3.6/site-packages/tqdm/_monitor.py:89: TqdmSynchronisationWarning: Set changed size during iteration (see https://github.com/tqdm/tqdm/issues/481)\n",
      "  TqdmSynchronisationWarning)\n",
      "2015 lines [00:00, 257049.26 lines/s]\n"
     ]
    },
    {
     "name": "stdout",
     "output_type": "stream",
     "text": [
      "Results, using embeddings of dimensionality 256\n",
      "-------------------\n",
      "Train percent: 0.05\n",
      "Shuffle #1:    {'micro': 0.18945848375451263, 'accuracy': 0.044386422976501305, 'macro': 0.1445526083737005}\n",
      "Average score: {'micro': 0.18945848375451263, 'accuracy': 0.044386422976501305, 'macro': 0.1445526083737005}\n",
      "-------------------\n",
      "Train percent: 0.1\n",
      "Shuffle #1:    {'micro': 0.24521712723959915, 'accuracy': 0.05733186328555678, 'macro': 0.21665748632672688}\n",
      "Average score: {'micro': 0.24521712723959915, 'accuracy': 0.05733186328555678, 'macro': 0.21665748632672688}\n",
      "-------------------\n",
      "Train percent: 0.2\n",
      "Shuffle #1:    {'micro': 0.3116663852777309, 'accuracy': 0.08002481389578164, 'macro': 0.2882478994813832}\n",
      "Average score: {'micro': 0.3116663852777309, 'accuracy': 0.08002481389578164, 'macro': 0.2882478994813832}\n",
      "-------------------\n"
     ]
    },
    {
     "name": "stderr",
     "output_type": "stream",
     "text": [
      "/home/hcchen/anaconda3/envs/deeplearning/lib/python3.6/site-packages/tqdm/_monitor.py:89: TqdmSynchronisationWarning: Set changed size during iteration (see https://github.com/tqdm/tqdm/issues/481)\n",
      "  TqdmSynchronisationWarning)\n",
      "2015 lines [00:00, 7497.04 lines/s]\n"
     ]
    },
    {
     "name": "stdout",
     "output_type": "stream",
     "text": [
      "Results, using embeddings of dimensionality 256\n",
      "-------------------\n",
      "Train percent: 0.05\n",
      "Shuffle #1:    {'micro': 0.20043509789702682, 'accuracy': 0.045953002610966055, 'macro': 0.16200196265572256}\n",
      "Average score: {'micro': 0.20043509789702682, 'accuracy': 0.045953002610966055, 'macro': 0.16200196265572256}\n",
      "-------------------\n",
      "Train percent: 0.1\n",
      "Shuffle #1:    {'micro': 0.2505736576411198, 'accuracy': 0.05181918412348401, 'macro': 0.22262105184045808}\n",
      "Average score: {'micro': 0.2505736576411198, 'accuracy': 0.05181918412348401, 'macro': 0.22262105184045808}\n",
      "-------------------\n",
      "Train percent: 0.2\n",
      "Shuffle #1:    {'micro': 0.31435431315383294, 'accuracy': 0.06327543424317618, 'macro': 0.2843042501817429}\n",
      "Average score: {'micro': 0.31435431315383294, 'accuracy': 0.06327543424317618, 'macro': 0.2843042501817429}\n",
      "-------------------\n"
     ]
    },
    {
     "name": "stderr",
     "output_type": "stream",
     "text": [
      "/home/hcchen/anaconda3/envs/deeplearning/lib/python3.6/site-packages/tqdm/_monitor.py:89: TqdmSynchronisationWarning: Set changed size during iteration (see https://github.com/tqdm/tqdm/issues/481)\n",
      "  TqdmSynchronisationWarning)\n"
     ]
    }
   ],
   "source": [
    "print(\"edge_label_train_prob\", edge_label_train_prob)\n",
    "print(\"batch_size\", batch_size)\n",
    "print(\"neg_sampling_size\", neg_sampling_size)\n",
    "print(\"dataset\", dataset)\n",
    "print(\"ne_model\", ne_model)\n",
    "filename = str(time.time())\n",
    "print(\"filename\", filename)\n",
    "\n",
    "# for edge_label_train_prob in [0.0, 0.2, 0.4, 0.6, 0.8, 1.0]:\n",
    "for edge_label_train_prob in [0.0]:\n",
    "# for edge_label_ratio in [1, 5, 10]:\n",
    "# for emb_size in [16, 32, 64, 128, 256, 512]:\n",
    "# for emb_size in [256]:\n",
    "    print(\"edge_label_ratio\", edge_label_ratio)\n",
    "    print(\"edge_train_prob\", edge_train_prob)\n",
    "    print(\"emb_size\", emb_size)\n",
    "\n",
    "    edge_labels_path = \"%s/aegcn/%s_%d/label-mat.txt\" % (base_model_data_path,\n",
    "                                                         dataset,\n",
    "                                                         edge_label_ratio)\n",
    "    all_scores = []\n",
    "    node_map.freeze = True\n",
    "    total_label_count = int(open(stats_file).readline().strip().split(\" \")[2])\n",
    "    edge_label_dataset = MultipleLableDataset(\n",
    "        node_map,\n",
    "        node_map,\n",
    "        edge_labels_path,\n",
    "        total_label_count,\n",
    "        ratio=1.0,\n",
    "        use_all_zeros=False)\n",
    "    print(len(node_map.str2id_dict))\n",
    "    use_cuda = False\n",
    "    print(len(edge_label_dataset))\n",
    "\n",
    "    torch.cuda.manual_seed_all(13)\n",
    "    torch.manual_seed(13)\n",
    "    model = SemiSkipGram(emb_size, total_label_count, use_cuda)\n",
    "    node_representation = NodeRepresentation(\n",
    "        len(node_map.str2id_dict), emb_size, use_cuda)\n",
    "    node_optimizer = torch.optim.SGD(node_representation.parameters(), 1)\n",
    "    model_optimizer = torch.optim.SGD(model.parameters(), 1)\n",
    "\n",
    "    edge_loader = DataLoader(\n",
    "        edge_dataset,\n",
    "        batch_size=batch_size,\n",
    "        collate_fn=collate_fn,\n",
    "        shuffle=True,\n",
    "        drop_last=True)\n",
    "    edge_label_loader = DataLoader(\n",
    "        edge_label_dataset,\n",
    "        batch_size=batch_size,\n",
    "        shuffle=True,\n",
    "        drop_last=True)\n",
    "\n",
    "    lambda0 = lambda epoch: max(0.00001, 0.05 / (1.0 + epoch * batch_size / 10000 * 0.01))\n",
    "    scheduler0 = optim.lr_scheduler.LambdaLR(\n",
    "        node_optimizer, lr_lambda=[lambda0])\n",
    "    lambda1 = lambda epoch: max(0.00001, 0.05 / (1.0 + epoch * batch_size / 10000 * 0.01))\n",
    "    scheduler1 = optim.lr_scheduler.LambdaLR(\n",
    "        model_optimizer, lr_lambda=[lambda1])\n",
    "\n",
    "    edge_errs = [0]\n",
    "    edge_label_errs = [0]\n",
    "    edge_loader_train = iter(edge_loader)\n",
    "    edge_label_loader_train = iter(edge_label_loader)\n",
    "    batch_process_bar = tqdm(range(int(100000)))\n",
    "\n",
    "    for idx in batch_process_bar:\n",
    "        directed = True\n",
    "        if idx % 5000 == 0 or (idx < 5000 and idx % 5000 == 0):\n",
    "\n",
    "            node_representation.save_embedding(node_map, filename, False)\n",
    "            score = evaluate(\n",
    "                filename, node_labels_file, stats_file, num_shuffles=1, use_std_out=True)\n",
    "            all_scores.append([idx, score])\n",
    "            os.remove(filename)\n",
    "        if numpy.random.rand() < edge_train_prob:\n",
    "            try:\n",
    "                uids, vids, neg_vids = edge_loader_train.next()\n",
    "            except:\n",
    "                edge_loader_train = iter(edge_loader)\n",
    "                edge_dataset.negative_sampling1()\n",
    "                uids, vids, neg_vids = edge_loader_train.next()\n",
    "            node_optimizer.zero_grad()\n",
    "            emb_u = node_representation.forward(\n",
    "                uids, is_start=True, directed=directed)\n",
    "            emb_v = node_representation.forward(\n",
    "                vids, is_start=False, directed=directed)\n",
    "            neg_emb_v = node_representation.forward(\n",
    "                neg_vids, is_start=False, directed=directed)\n",
    "            neg_emb_v = neg_emb_v.view(batch_size, -1, emb_size)\n",
    "            err = model.stucture_loss(emb_u, emb_v, neg_emb_v)\n",
    "            # edge_errs.append(err.cpu().data.numpy()[0])\n",
    "            err.backward()\n",
    "            node_optimizer.step()\n",
    "            scheduler0.step()\n",
    "\n",
    "        if numpy.random.rand() < edge_label_train_prob:\n",
    "            try:\n",
    "                uids, vids, edge_labels = edge_label_loader_train.next()\n",
    "            except:\n",
    "                edge_label_loader_train = iter(edge_label_loader)\n",
    "                uids, vids, edge_labels = edge_label_loader_train.next()\n",
    "\n",
    "            edge_labels = Variable(edge_labels.type(torch.FloatTensor))\n",
    "            node_optimizer.zero_grad()\n",
    "            model_optimizer.zero_grad()\n",
    "            emb_u = node_representation.forward(\n",
    "                uids, is_start=True, directed=directed)\n",
    "            emb_v = node_representation.forward(\n",
    "                vids, is_start=False, directed=directed)\n",
    "            err = model.edge_label_loss(emb_u, emb_v, edge_labels)\n",
    "            err.backward()\n",
    "            model_optimizer.step()\n",
    "            node_optimizer.step()\n",
    "            # edge_label_errs.append(err.cpu().data.numpy()[0])\n",
    "        batch_process_bar.set_postfix_str(\"Loss: %0.2f | %0.2f, lr1: %0.6f\" % (\n",
    "            edge_errs[-1],\n",
    "            edge_label_errs[-1],\n",
    "            node_optimizer.param_groups[0][\"lr\"],\n",
    "        ))\n",
    "    result_file_name = \"../../results/our_model/%s/%s/%d/training_prob_%0.2f_%0.2f_batch_%d_dim_%d_neg_%d.pkl\" % (\n",
    "        dataset, ne_model, edge_label_ratio, edge_train_prob,\n",
    "        edge_label_train_prob, batch_size, emb_size, neg_sampling_size)\n",
    "    pickle.dump(all_scores, open(result_file_name, \"wb\"))"
   ]
  },
  {
   "cell_type": "code",
   "execution_count": null,
   "metadata": {},
   "outputs": [],
   "source": []
  }
 ],
 "metadata": {
  "kernelspec": {
   "display_name": "Python 3",
   "language": "python",
   "name": "python3"
  },
  "language_info": {
   "codemirror_mode": {
    "name": "ipython",
    "version": 3
   },
   "file_extension": ".py",
   "mimetype": "text/x-python",
   "name": "python",
   "nbconvert_exporter": "python",
   "pygments_lexer": "ipython3",
   "version": "3.6.4"
  }
 },
 "nbformat": 4,
 "nbformat_minor": 2
}
